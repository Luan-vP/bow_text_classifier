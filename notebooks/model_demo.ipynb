{
 "cells": [
  {
   "cell_type": "markdown",
   "metadata": {},
   "source": [
    "# Datasets\n"
   ]
  },
  {
   "cell_type": "code",
   "execution_count": 4,
   "metadata": {},
   "outputs": [],
   "source": [
    "import torch\n",
    "import torch.nn as nn\n",
    "\n",
    "from bow_text_classifier.data import create_training_datasets\n",
    "\n",
    "# Load the default datasets\n",
    "train_data, test_data, word_to_index, tag_to_index = create_training_datasets()"
   ]
  },
  {
   "cell_type": "markdown",
   "metadata": {},
   "source": [
    "# Training\n"
   ]
  },
  {
   "cell_type": "code",
   "execution_count": 5,
   "metadata": {},
   "outputs": [
    {
     "name": "stdout",
     "output_type": "stream",
     "text": [
      "ITER: 1 | train loss/sent: 1.4751 | train accuracy: 0.3626 | test accuracy: 0.4005\n",
      "ITER: 2 | train loss/sent: 1.1220 | train accuracy: 0.6074 | test accuracy: 0.4100\n",
      "ITER: 3 | train loss/sent: 0.9124 | train accuracy: 0.7117 | test accuracy: 0.4140\n",
      "ITER: 4 | train loss/sent: 0.7687 | train accuracy: 0.7670 | test accuracy: 0.4113\n",
      "ITER: 5 | train loss/sent: 0.6628 | train accuracy: 0.8078 | test accuracy: 0.4158\n",
      "ITER: 6 | train loss/sent: 0.5821 | train accuracy: 0.8325 | test accuracy: 0.4068\n",
      "ITER: 7 | train loss/sent: 0.5164 | train accuracy: 0.8545 | test accuracy: 0.4032\n",
      "ITER: 8 | train loss/sent: 0.4637 | train accuracy: 0.8714 | test accuracy: 0.4036\n",
      "ITER: 9 | train loss/sent: 0.4188 | train accuracy: 0.8814 | test accuracy: 0.4018\n",
      "ITER: 10 | train loss/sent: 0.3823 | train accuracy: 0.8915 | test accuracy: 0.3941\n"
     ]
    }
   ],
   "source": [
    "from bow_text_classifier.nn import _BoW, train_bow\n",
    "\n",
    "device = \"cuda\" if torch.cuda.is_available() else \"cpu\"\n",
    "\n",
    "type = torch.cuda.LongTensor if torch.cuda.is_available() else torch.LongTensor\n",
    "\n",
    "# train and test the BoW model\n",
    "model = _BoW(len(word_to_index), len(tag_to_index)).to(device)\n",
    "criterion = nn.CrossEntropyLoss()\n",
    "optimizer = torch.optim.Adam(model.parameters())\n",
    "type = torch.LongTensor\n",
    "\n",
    "if torch.cuda.is_available():\n",
    "    model.to(device)\n",
    "    type = torch.cuda.LongTensor\n",
    "\n",
    "\n",
    "# call the train_bow function\n",
    "train_bow(model, optimizer, criterion, train_data, test_data, type)"
   ]
  },
  {
   "cell_type": "markdown",
   "metadata": {},
   "source": [
    "# Saving the model\n"
   ]
  },
  {
   "cell_type": "code",
   "execution_count": 6,
   "metadata": {},
   "outputs": [],
   "source": [
    "from bow_text_classifier.nn import save_model, model_dir\n",
    "\n",
    "save_model(model, word_to_index, tag_to_index, model_dir / \"bow_model\")"
   ]
  },
  {
   "cell_type": "code",
   "execution_count": null,
   "metadata": {},
   "outputs": [],
   "source": [
    "# Inference and Loading"
   ]
  },
  {
   "cell_type": "code",
   "execution_count": 7,
   "metadata": {},
   "outputs": [
    {
     "name": "stdout",
     "output_type": "stream",
     "text": [
      "Predicted Tag: 4\n"
     ]
    }
   ],
   "source": [
    "from bow_text_classifier.nn import BoW_Classifier\n",
    "\n",
    "classifier = BoW_Classifier()\n",
    "classifier.load_model(model_dir / \"bow_model\")\n",
    "\n",
    "sample_sentence = \"I love programming\"\n",
    "predicted_tag = classifier.predict(sample_sentence)\n",
    "\n",
    "print(f\"Predicted Tag: {predicted_tag}\")"
   ]
  }
 ],
 "metadata": {
  "kernelspec": {
   "display_name": ".venv",
   "language": "python",
   "name": "python3"
  },
  "language_info": {
   "codemirror_mode": {
    "name": "ipython",
    "version": 3
   },
   "file_extension": ".py",
   "mimetype": "text/x-python",
   "name": "python",
   "nbconvert_exporter": "python",
   "pygments_lexer": "ipython3",
   "version": "3.11.9"
  }
 },
 "nbformat": 4,
 "nbformat_minor": 2
}

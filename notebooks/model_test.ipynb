{
 "cells": [
  {
   "cell_type": "code",
   "execution_count": 1,
   "metadata": {},
   "outputs": [
    {
     "name": "stderr",
     "output_type": "stream",
     "text": [
      "/Users/luan/Developer/bow-text-classifier/.venv/lib/python3.11/site-packages/torch/nn/modules/transformer.py:20: UserWarning: Failed to initialize NumPy: No module named 'numpy' (Triggered internally at /Users/runner/work/pytorch/pytorch/pytorch/torch/csrc/utils/tensor_numpy.cpp:84.)\n",
      "  device: torch.device = torch.device(torch._C._get_default_device()),  # torch.device('cpu'),\n"
     ]
    }
   ],
   "source": [
    "import torch\n",
    "import random\n",
    "\n",
    "import torch.nn as nn"
   ]
  },
  {
   "cell_type": "code",
   "execution_count": 2,
   "metadata": {},
   "outputs": [],
   "source": [
    "from bow_text_classifier.data import (\n",
    "    get_dataset_filepath,\n",
    "    _parse_data,\n",
    "    _create_dict,\n",
    "    _create_tensors,\n",
    ")\n",
    "\n",
    "# with open(get_dataset_filepath(\"dev\"), \"r\") as f:\n",
    "#     dev_data = _parse_data(f.read())\n",
    "\n",
    "with open(get_dataset_filepath(\"train\"), \"r\") as f:\n",
    "    train_data = _parse_data(f.read())\n",
    "\n",
    "with open(get_dataset_filepath(\"test\"), \"r\") as f:\n",
    "    test_data = _parse_data(f.read())\n",
    "\n",
    "\n",
    "word_to_index, tag_to_index = _create_dict(train_data)\n",
    "\n",
    "word_to_index, tag_to_index = _create_dict(\n",
    "    test_data, word_to_index, tag_to_index, check_unk=True\n",
    ")\n",
    "\n",
    "number_of_words = len(word_to_index)\n",
    "number_of_tags = len(tag_to_index)\n",
    "\n",
    "train_data = list(_create_tensors(train_data, word_to_index, tag_to_index))\n",
    "test_data = list(_create_tensors(test_data, word_to_index, tag_to_index))\n",
    "\n",
    "number_of_words = len(word_to_index)\n",
    "number_of_tags = len(tag_to_index)"
   ]
  },
  {
   "cell_type": "code",
   "execution_count": 3,
   "metadata": {},
   "outputs": [
    {
     "data": {
      "text/plain": [
       "tensor([[ 0.0099, -0.0141,  0.0240, -0.0026, -0.0072]],\n",
       "       grad_fn=<ViewBackward0>)"
      ]
     },
     "execution_count": 3,
     "metadata": {},
     "output_type": "execute_result"
    }
   ],
   "source": [
    "from bow_text_classifier.nn import BoW, sentence_to_tensor\n",
    "\n",
    "device = \"cuda\" if torch.cuda.is_available() else \"cpu\"\n",
    "\n",
    "\n",
    "type = torch.cuda.LongTensor if torch.cuda.is_available() else torch.LongTensor\n",
    "out = sentence_to_tensor(\"i love dogs\", word_to_index).type(type)\n",
    "test_model = BoW(number_of_words, number_of_tags).to(device)\n",
    "\n",
    "test_model(out)"
   ]
  },
  {
   "cell_type": "code",
   "execution_count": 4,
   "metadata": {},
   "outputs": [
    {
     "name": "stdout",
     "output_type": "stream",
     "text": [
      "ITER: 1 | train loss/sent: 1.4739 | train accuracy: 0.3708 | test accuracy: 0.3977\n",
      "ITER: 2 | train loss/sent: 1.1212 | train accuracy: 0.6058 | test accuracy: 0.4113\n",
      "ITER: 3 | train loss/sent: 0.9114 | train accuracy: 0.7140 | test accuracy: 0.4104\n",
      "ITER: 4 | train loss/sent: 0.7689 | train accuracy: 0.7690 | test accuracy: 0.4109\n",
      "ITER: 5 | train loss/sent: 0.6637 | train accuracy: 0.8059 | test accuracy: 0.4127\n",
      "ITER: 6 | train loss/sent: 0.5822 | train accuracy: 0.8315 | test accuracy: 0.4032\n",
      "ITER: 7 | train loss/sent: 0.5165 | train accuracy: 0.8529 | test accuracy: 0.4081\n",
      "ITER: 8 | train loss/sent: 0.4637 | train accuracy: 0.8737 | test accuracy: 0.3955\n",
      "ITER: 9 | train loss/sent: 0.4190 | train accuracy: 0.8810 | test accuracy: 0.3914\n",
      "ITER: 10 | train loss/sent: 0.3812 | train accuracy: 0.8944 | test accuracy: 0.3955\n"
     ]
    }
   ],
   "source": [
    "from bow_text_classifier.nn import train_bow\n",
    "\n",
    "# train and test the BoW model\n",
    "model = BoW(number_of_words, number_of_tags).to(device)\n",
    "criterion = nn.CrossEntropyLoss()\n",
    "optimizer = torch.optim.Adam(model.parameters())\n",
    "type = torch.LongTensor\n",
    "\n",
    "if torch.cuda.is_available():\n",
    "    model.to(device)\n",
    "    type = torch.cuda.LongTensor\n",
    "\n",
    "\n",
    "# call the train_bow function\n",
    "train_bow(model, optimizer, criterion, train_data, test_data, type)"
   ]
  },
  {
   "cell_type": "code",
   "execution_count": 5,
   "metadata": {},
   "outputs": [
    {
     "name": "stdout",
     "output_type": "stream",
     "text": [
      "False\n",
      "Predicted Tag: 4\n"
     ]
    }
   ],
   "source": [
    "def perform_inference(model, sentence, word_to_index, tag_to_index, device):\n",
    "    \"\"\"\n",
    "    Perform inference on the trained BoW model.\n",
    "\n",
    "    Args:\n",
    "        model (torch.nn.Module): The trained BoW model.\n",
    "        sentence (str): The input sentence for inference.\n",
    "        word_to_index (dict): A dictionary mapping words to their indices.\n",
    "        tag_to_index (dict): A dictionary mapping tags to their indices.\n",
    "        device (str): \"cuda\" or \"cpu\" based on availability.\n",
    "\n",
    "    Returns:\n",
    "        str: The predicted class/tag for the input sentence.\n",
    "    \"\"\"\n",
    "    # Preprocess the input sentence to match the model's input format\n",
    "    sentence_tensor = sentence_to_tensor(sentence, word_to_index)\n",
    "\n",
    "    # Move the input tensor to the same device as the model\n",
    "    sentence_tensor = sentence_tensor.to(device)\n",
    "\n",
    "    # Make sure the model is in evaluation mode and on the correct device\n",
    "    model.eval()\n",
    "    model.to(device)\n",
    "\n",
    "    # Perform inference\n",
    "    with torch.no_grad():\n",
    "        output = model(sentence_tensor)\n",
    "\n",
    "    # Move the output tensor to CPU if it's on CUDA\n",
    "    if device == \"cuda\":\n",
    "        output = output.cpu()\n",
    "\n",
    "    # Convert the model's output to a predicted class/tag\n",
    "    predicted_class = torch.argmax(output).item()\n",
    "\n",
    "    # Reverse lookup to get the tag corresponding to the predicted class\n",
    "    for tag, index in tag_to_index.items():\n",
    "        if index == predicted_class:\n",
    "            return tag\n",
    "\n",
    "    # Return an error message if the tag is not found\n",
    "    return \"Tag not found\"\n",
    "\n",
    "\n",
    "# Example usage:\n",
    "# Load your trained model (model) and dictionaries (word_to_index and tag_to_index) here\n",
    "# model = load_trained_model()\n",
    "# word_to_index, tag_to_index = load_dictionaries()\n",
    "\n",
    "# Determine the device based on availability\n",
    "device = \"cuda\" if torch.cuda.is_available() else \"cpu\"\n",
    "\n",
    "sample_sentence = \"I love programming\"\n",
    "predicted_tag = perform_inference(\n",
    "    model, sample_sentence, word_to_index, tag_to_index, device\n",
    ")\n",
    "print(f\"Predicted Tag: {predicted_tag}\")"
   ]
  }
 ],
 "metadata": {
  "kernelspec": {
   "display_name": ".venv",
   "language": "python",
   "name": "python3"
  },
  "language_info": {
   "codemirror_mode": {
    "name": "ipython",
    "version": 3
   },
   "file_extension": ".py",
   "mimetype": "text/x-python",
   "name": "python",
   "nbconvert_exporter": "python",
   "pygments_lexer": "ipython3",
   "version": "3.11.9"
  }
 },
 "nbformat": 4,
 "nbformat_minor": 2
}

{
 "cells": [
  {
   "cell_type": "code",
   "execution_count": 1,
   "metadata": {},
   "outputs": [
    {
     "name": "stderr",
     "output_type": "stream",
     "text": [
      "/Users/luan/Developer/bow-text-classifier/.venv/lib/python3.11/site-packages/torch/nn/modules/transformer.py:20: UserWarning: Failed to initialize NumPy: No module named 'numpy' (Triggered internally at /Users/runner/work/pytorch/pytorch/pytorch/torch/csrc/utils/tensor_numpy.cpp:84.)\n",
      "  device: torch.device = torch.device(torch._C._get_default_device()),  # torch.device('cpu'),\n"
     ]
    }
   ],
   "source": [
    "import torch\n",
    "import random\n",
    "\n",
    "import torch.nn as nn"
   ]
  },
  {
   "cell_type": "code",
   "execution_count": 2,
   "metadata": {},
   "outputs": [],
   "source": [
    "from bow_text_classifier.data import (\n",
    "    get_dataset_filepath,\n",
    "    _parse_data,\n",
    "    _create_dict,\n",
    "    _create_tensors,\n",
    ")\n",
    "\n",
    "# with open(get_dataset_filepath(\"dev\"), \"r\") as f:\n",
    "#     dev_data = _parse_data(f.read())\n",
    "\n",
    "with open(get_dataset_filepath(\"train\"), \"r\") as f:\n",
    "    train_data = _parse_data(f.read())\n",
    "\n",
    "with open(get_dataset_filepath(\"test\"), \"r\") as f:\n",
    "    test_data = _parse_data(f.read())\n",
    "\n",
    "\n",
    "word_to_index, tag_to_index = _create_dict(train_data)\n",
    "\n",
    "word_to_index, tag_to_index = _create_dict(\n",
    "    test_data, word_to_index, tag_to_index, check_unk=True\n",
    ")\n",
    "\n",
    "number_of_words = len(word_to_index)\n",
    "number_of_tags = len(tag_to_index)\n",
    "\n",
    "train_data = list(_create_tensors(train_data, word_to_index, tag_to_index))\n",
    "test_data = list(_create_tensors(test_data, word_to_index, tag_to_index))\n",
    "\n",
    "number_of_words = len(word_to_index)\n",
    "number_of_tags = len(tag_to_index)"
   ]
  },
  {
   "cell_type": "code",
   "execution_count": 3,
   "metadata": {},
   "outputs": [
    {
     "data": {
      "text/plain": [
       "tensor([[ 0.0174,  0.0024, -0.0141,  0.0054, -0.0260]],\n",
       "       grad_fn=<ViewBackward0>)"
      ]
     },
     "execution_count": 3,
     "metadata": {},
     "output_type": "execute_result"
    }
   ],
   "source": [
    "from bow_text_classifier.nn import BoW, sentence_to_tensor\n",
    "\n",
    "device = \"cuda\" if torch.cuda.is_available() else \"cpu\"\n",
    "\n",
    "\n",
    "type = torch.cuda.LongTensor if torch.cuda.is_available() else torch.LongTensor\n",
    "out = sentence_to_tensor(\"i love dogs\", word_to_index).type(type)\n",
    "test_model = BoW(number_of_words, number_of_tags).to(device)\n",
    "\n",
    "test_model(out)"
   ]
  },
  {
   "cell_type": "code",
   "execution_count": 4,
   "metadata": {},
   "outputs": [
    {
     "name": "stdout",
     "output_type": "stream",
     "text": [
      "ITER: 1 | train loss/sent: 1.4736 | train accuracy: 0.3599 | test accuracy: 0.4050\n",
      "ITER: 2 | train loss/sent: 1.1217 | train accuracy: 0.6084 | test accuracy: 0.4127\n",
      "ITER: 3 | train loss/sent: 0.9117 | train accuracy: 0.7100 | test accuracy: 0.4181\n",
      "ITER: 4 | train loss/sent: 0.7691 | train accuracy: 0.7729 | test accuracy: 0.4127\n",
      "ITER: 5 | train loss/sent: 0.6626 | train accuracy: 0.8070 | test accuracy: 0.4127\n",
      "ITER: 6 | train loss/sent: 0.5811 | train accuracy: 0.8337 | test accuracy: 0.4127\n",
      "ITER: 7 | train loss/sent: 0.5175 | train accuracy: 0.8526 | test accuracy: 0.4090\n",
      "ITER: 8 | train loss/sent: 0.4638 | train accuracy: 0.8684 | test accuracy: 0.3995\n",
      "ITER: 9 | train loss/sent: 0.4187 | train accuracy: 0.8810 | test accuracy: 0.4059\n"
     ]
    }
   ],
   "source": [
    "# train and test the BoW model\n",
    "model = BoW(number_of_words, number_of_tags).to(device)\n",
    "criterion = nn.CrossEntropyLoss()\n",
    "optimizer = torch.optim.Adam(model.parameters())\n",
    "type = torch.LongTensor\n",
    "\n",
    "if torch.cuda.is_available():\n",
    "    model.to(device)\n",
    "    type = torch.cuda.LongTensor\n",
    "\n",
    "\n",
    "# perform training of the Bow model\n",
    "def train_bow(model, optimizer, criterion, train_data):\n",
    "    for ITER in range(10):\n",
    "        # perform training\n",
    "        model.train()\n",
    "        random.shuffle(train_data)\n",
    "        total_loss = 0.0\n",
    "        train_correct = 0\n",
    "        for sentence, tag in train_data:\n",
    "            sentence = torch.tensor(sentence).type(type)\n",
    "            tag = torch.tensor([tag]).type(type)\n",
    "            output = model(sentence)\n",
    "            predicted = torch.argmax(output.data.detach()).item()\n",
    "\n",
    "            loss = criterion(output, tag)\n",
    "            total_loss += loss.item()\n",
    "\n",
    "            optimizer.zero_grad()\n",
    "            loss.backward()\n",
    "            optimizer.step()\n",
    "\n",
    "            if predicted == tag:\n",
    "                train_correct += 1\n",
    "        # perform testing of the model\n",
    "        model.eval()\n",
    "        test_correct = 0\n",
    "        for _sentence, tag in test_data:\n",
    "            _sentence = torch.tensor(_sentence).type(type)\n",
    "            output = model(_sentence)\n",
    "            predicted = torch.argmax(output.data.detach()).item()\n",
    "            if predicted == tag:\n",
    "                test_correct += 1\n",
    "\n",
    "        # print model performance results\n",
    "        log = (\n",
    "            f\"ITER: {ITER+1} | \"\n",
    "            f\"train loss/sent: {total_loss/len(train_data):.4f} | \"\n",
    "            f\"train accuracy: {train_correct/len(train_data):.4f} | \"\n",
    "            f\"test accuracy: {test_correct/len(test_data):.4f}\"\n",
    "        )\n",
    "        print(log)\n",
    "\n",
    "\n",
    "# call the train_bow function\n",
    "train_bow(model, optimizer, criterion, train_data)"
   ]
  }
 ],
 "metadata": {
  "kernelspec": {
   "display_name": ".venv",
   "language": "python",
   "name": "python3"
  },
  "language_info": {
   "codemirror_mode": {
    "name": "ipython",
    "version": 3
   },
   "file_extension": ".py",
   "mimetype": "text/x-python",
   "name": "python",
   "nbconvert_exporter": "python",
   "pygments_lexer": "ipython3",
   "version": "3.11.9"
  }
 },
 "nbformat": 4,
 "nbformat_minor": 2
}

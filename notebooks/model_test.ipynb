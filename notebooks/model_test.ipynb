{
 "cells": [
  {
   "cell_type": "code",
   "execution_count": 1,
   "metadata": {},
   "outputs": [
    {
     "name": "stderr",
     "output_type": "stream",
     "text": [
      "/Users/luan/Developer/bow-text-classifier/.venv/lib/python3.11/site-packages/torch/nn/modules/transformer.py:20: UserWarning: Failed to initialize NumPy: No module named 'numpy' (Triggered internally at /Users/runner/work/pytorch/pytorch/pytorch/torch/csrc/utils/tensor_numpy.cpp:84.)\n",
      "  device: torch.device = torch.device(torch._C._get_default_device()),  # torch.device('cpu'),\n"
     ]
    }
   ],
   "source": [
    "import torch"
   ]
  },
  {
   "cell_type": "code",
   "execution_count": 4,
   "metadata": {},
   "outputs": [],
   "source": [
    "from bow_text_classifier.data import get_dataset_filepath, _parse_data, _create_dict\n",
    "\n",
    "with open(get_dataset_filepath(\"dev\"), \"r\") as f:\n",
    "    dev_data = f.read()\n",
    "\n",
    "with open(get_dataset_filepath(\"train\"), \"r\") as f:\n",
    "    train_data = f.read()\n",
    "\n",
    "with open(get_dataset_filepath(\"test\"), \"r\") as f:\n",
    "    test_data = f.read()\n",
    "\n",
    "\n",
    "word_to_index, tag_to_index = _create_dict(_parse_data(train_data))\n",
    "\n",
    "word_to_index, tag_to_index = _create_dict(\n",
    "    _parse_data(test_data), word_to_index, tag_to_index, check_unk=True\n",
    ")\n",
    "\n",
    "number_of_words = len(word_to_index)\n",
    "number_of_tags = len(tag_to_index)"
   ]
  },
  {
   "cell_type": "code",
   "execution_count": 9,
   "metadata": {},
   "outputs": [
    {
     "data": {
      "text/plain": [
       "tensor([[-0.0005, -0.0039,  0.0097, -0.0298, -0.0218]],\n",
       "       grad_fn=<ViewBackward0>)"
      ]
     },
     "execution_count": 9,
     "metadata": {},
     "output_type": "execute_result"
    }
   ],
   "source": [
    "from bow_text_classifier.nn import BoW, sentence_to_tensor\n",
    "\n",
    "device = \"cuda\" if torch.cuda.is_available() else \"cpu\"\n",
    "\n",
    "\n",
    "type = torch.cuda.LongTensor if torch.cuda.is_available() else torch.LongTensor\n",
    "out = sentence_to_tensor(\"i love dogs\", word_to_index).type(type)\n",
    "test_model = BoW(number_of_words, number_of_tags).to(device)\n",
    "\n",
    "test_model(out)"
   ]
  }
 ],
 "metadata": {
  "kernelspec": {
   "display_name": ".venv",
   "language": "python",
   "name": "python3"
  },
  "language_info": {
   "codemirror_mode": {
    "name": "ipython",
    "version": 3
   },
   "file_extension": ".py",
   "mimetype": "text/x-python",
   "name": "python",
   "nbconvert_exporter": "python",
   "pygments_lexer": "ipython3",
   "version": "3.11.9"
  }
 },
 "nbformat": 4,
 "nbformat_minor": 2
}

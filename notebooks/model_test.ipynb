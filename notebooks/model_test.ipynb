{
 "cells": [
  {
   "cell_type": "code",
   "execution_count": 1,
   "metadata": {},
   "outputs": [
    {
     "name": "stderr",
     "output_type": "stream",
     "text": [
      "/Users/luan/Developer/bow-text-classifier/.venv/lib/python3.11/site-packages/torch/nn/modules/transformer.py:20: UserWarning: Failed to initialize NumPy: No module named 'numpy' (Triggered internally at /Users/runner/work/pytorch/pytorch/pytorch/torch/csrc/utils/tensor_numpy.cpp:84.)\n",
      "  device: torch.device = torch.device(torch._C._get_default_device()),  # torch.device('cpu'),\n"
     ]
    }
   ],
   "source": [
    "import torch\n",
    "import random\n",
    "\n",
    "import torch.nn as nn"
   ]
  },
  {
   "cell_type": "code",
   "execution_count": 2,
   "metadata": {},
   "outputs": [],
   "source": [
    "from bow_text_classifier.data import (\n",
    "    get_dataset_filepath,\n",
    "    _parse_data,\n",
    "    _create_dict,\n",
    "    _create_tensors,\n",
    ")\n",
    "\n",
    "# with open(get_dataset_filepath(\"dev\"), \"r\") as f:\n",
    "#     dev_data = _parse_data(f.read())\n",
    "\n",
    "with open(get_dataset_filepath(\"train\"), \"r\") as f:\n",
    "    train_data = _parse_data(f.read())\n",
    "\n",
    "with open(get_dataset_filepath(\"test\"), \"r\") as f:\n",
    "    test_data = _parse_data(f.read())\n",
    "\n",
    "\n",
    "word_to_index, tag_to_index = _create_dict(train_data)\n",
    "\n",
    "word_to_index, tag_to_index = _create_dict(\n",
    "    test_data, word_to_index, tag_to_index, check_unk=True\n",
    ")\n",
    "\n",
    "number_of_words = len(word_to_index)\n",
    "number_of_tags = len(tag_to_index)\n",
    "\n",
    "train_data = list(_create_tensors(train_data, word_to_index, tag_to_index))\n",
    "test_data = list(_create_tensors(test_data, word_to_index, tag_to_index))\n",
    "\n",
    "number_of_words = len(word_to_index)\n",
    "number_of_tags = len(tag_to_index)"
   ]
  },
  {
   "cell_type": "code",
   "execution_count": 3,
   "metadata": {},
   "outputs": [
    {
     "data": {
      "text/plain": [
       "tensor([[ 0.0099, -0.0141,  0.0240, -0.0026, -0.0072]],\n",
       "       grad_fn=<ViewBackward0>)"
      ]
     },
     "execution_count": 3,
     "metadata": {},
     "output_type": "execute_result"
    }
   ],
   "source": [
    "from bow_text_classifier.nn import BoW, sentence_to_tensor\n",
    "\n",
    "device = \"cuda\" if torch.cuda.is_available() else \"cpu\"\n",
    "\n",
    "\n",
    "type = torch.cuda.LongTensor if torch.cuda.is_available() else torch.LongTensor\n",
    "out = sentence_to_tensor(\"i love dogs\", word_to_index).type(type)\n",
    "test_model = BoW(number_of_words, number_of_tags).to(device)\n",
    "\n",
    "test_model(out)"
   ]
  },
  {
   "cell_type": "code",
   "execution_count": 6,
   "metadata": {},
   "outputs": [
    {
     "ename": "ImportError",
     "evalue": "cannot import name 'save_model' from 'bow_text_classifier.nn' (/Users/luan/Developer/bow-text-classifier/src/bow_text_classifier/nn.py)",
     "output_type": "error",
     "traceback": [
      "\u001b[0;31m---------------------------------------------------------------------------\u001b[0m",
      "\u001b[0;31mImportError\u001b[0m                               Traceback (most recent call last)",
      "Cell \u001b[0;32mIn[6], line 1\u001b[0m\n\u001b[0;32m----> 1\u001b[0m \u001b[38;5;28;01mfrom\u001b[39;00m \u001b[38;5;21;01mbow_text_classifier\u001b[39;00m\u001b[38;5;21;01m.\u001b[39;00m\u001b[38;5;21;01mnn\u001b[39;00m \u001b[38;5;28;01mimport\u001b[39;00m train_bow, save_model, model_dir\n\u001b[1;32m      3\u001b[0m \u001b[38;5;66;03m# train and test the BoW model\u001b[39;00m\n\u001b[1;32m      4\u001b[0m model \u001b[38;5;241m=\u001b[39m BoW(number_of_words, number_of_tags)\u001b[38;5;241m.\u001b[39mto(device)\n",
      "\u001b[0;31mImportError\u001b[0m: cannot import name 'save_model' from 'bow_text_classifier.nn' (/Users/luan/Developer/bow-text-classifier/src/bow_text_classifier/nn.py)"
     ]
    }
   ],
   "source": [
    "from bow_text_classifier.nn import train_bow, save_model, model_dir\n",
    "\n",
    "# train and test the BoW model\n",
    "model = BoW(number_of_words, number_of_tags).to(device)\n",
    "criterion = nn.CrossEntropyLoss()\n",
    "optimizer = torch.optim.Adam(model.parameters())\n",
    "type = torch.LongTensor\n",
    "\n",
    "if torch.cuda.is_available():\n",
    "    model.to(device)\n",
    "    type = torch.cuda.LongTensor\n",
    "\n",
    "\n",
    "# call the train_bow function\n",
    "train_bow(model, optimizer, criterion, train_data, test_data, type)\n",
    "\n",
    "# save the model\n",
    "model_path = model_dir / \"bow.pth\"\n",
    "save_model(model, model_dir / \"bow.pth\")"
   ]
  },
  {
   "cell_type": "code",
   "execution_count": 5,
   "metadata": {},
   "outputs": [
    {
     "name": "stdout",
     "output_type": "stream",
     "text": [
      "False\n",
      "Predicted Tag: 4\n"
     ]
    }
   ],
   "source": [
    "from bow_text_classifier.nn import perform_inference, load_model\n",
    "\n",
    "model = BoW(number_of_words, number_of_tags).to(device)\n",
    "load_model(model, model_dir / \"bow.pth\")\n",
    "\n",
    "\n",
    "# Example usage:\n",
    "# Load your trained model (model) and dictionaries (word_to_index and tag_to_index) here\n",
    "# model = load_trained_model()\n",
    "# word_to_index, tag_to_index = load_dictionaries()\n",
    "\n",
    "# Determine the device based on availability\n",
    "device = \"cuda\" if torch.cuda.is_available() else \"cpu\"\n",
    "\n",
    "sample_sentence = \"I love programming\"\n",
    "predicted_tag = perform_inference(\n",
    "    model, sample_sentence, word_to_index, tag_to_index, device\n",
    ")\n",
    "print(f\"Predicted Tag: {predicted_tag}\")"
   ]
  }
 ],
 "metadata": {
  "kernelspec": {
   "display_name": ".venv",
   "language": "python",
   "name": "python3"
  },
  "language_info": {
   "codemirror_mode": {
    "name": "ipython",
    "version": 3
   },
   "file_extension": ".py",
   "mimetype": "text/x-python",
   "name": "python",
   "nbconvert_exporter": "python",
   "pygments_lexer": "ipython3",
   "version": "3.11.9"
  }
 },
 "nbformat": 4,
 "nbformat_minor": 2
}
